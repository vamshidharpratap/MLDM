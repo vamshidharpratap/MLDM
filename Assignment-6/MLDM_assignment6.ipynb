{
 "cells": [
  {
   "cell_type": "code",
   "execution_count": 165,
   "id": "d91944ae",
   "metadata": {},
   "outputs": [],
   "source": [
    "#Importing the libraries\n",
    "import numpy as np\n",
    "import pandas as pd\n",
    "from statistics import mode"
   ]
  },
  {
   "cell_type": "code",
   "execution_count": 3,
   "id": "d31f6c3a",
   "metadata": {},
   "outputs": [],
   "source": [
    "# defining the lambda function to find the euclidean distance between two points\n",
    "euclidean = lambda x,y : np.linalg.norm(x-y)"
   ]
  },
  {
   "cell_type": "code",
   "execution_count": 6,
   "id": "6f794c20",
   "metadata": {},
   "outputs": [
    {
     "data": {
      "text/plain": [
       "1.4142135623730951"
      ]
     },
     "execution_count": 6,
     "metadata": {},
     "output_type": "execute_result"
    }
   ],
   "source": [
    "euclidean(np.array([2,2]),np.array([1,1]))"
   ]
  },
  {
   "cell_type": "code",
   "execution_count": 162,
   "id": "6913ae07",
   "metadata": {},
   "outputs": [],
   "source": [
    "def KNN_Classifier(X_trainingdata : pd.DataFrame , Y_trainingdata : pd.DataFrame , X_testing : pd.DataFrame, K :int ) -> list:\n",
    "    \"\"\"\n",
    "    This function will perform KNN classification.\n",
    "    \n",
    "    :param X_trainingdata : Features for the training data\n",
    "    :param Y_trainingdata : Labels for the training data\n",
    "    :param X_testing      : Features for the testing data     \n",
    "    :param K              : Int value which specifies the number of neighbours \n",
    "    \n",
    "    retuns : list Preductions for the given X_testing data\n",
    "    \"\"\"\n",
    "    \n",
    "    Y_Predictions = []\n",
    "    \n",
    "    #Iterating through the testing data for predecting\n",
    "    \n",
    "    for i in range(len(X_testing)):\n",
    "        \n",
    "        distance_point = [] # Used to store the distances between the testing point and training data\n",
    "\n",
    "        for train in range(len(X_trainingdata)):\n",
    "            #print(\"i= \",X_testing[i])\n",
    "            #print(\"train = \",X_trainingdata.iloc[train,:])\n",
    "            distance = euclidean(X_testing[i],X_trainingdata.iloc[train,:])\n",
    "            distance_point.append([distance,Y_trainingdata[train]])\n",
    "            \n",
    "        #print(distance_point)    \n",
    "    \n",
    "        #Now we need to find the 'k' nearests points from the distances\n",
    "        nearest_neighours = sorted(distance_point, key = lambda x: x[0])[:K]\n",
    "        #print(nearest_neighours)\n",
    "        #Lets make predictions\n",
    "        y_labels = [i[1] for i in nearest_neighours]\n",
    "        #print(y_labels)\n",
    "        y_pred = mode(y_labels)\n",
    "        #print(y_pred)\n",
    "        Y_Predictions.append(y_pred)\n",
    "    \n",
    "    #print(Y_Predictions)\n",
    "    \n",
    "    return Y_Predictions\n",
    "    "
   ]
  },
  {
   "cell_type": "code",
   "execution_count": 164,
   "id": "56b850b2",
   "metadata": {
    "scrolled": true
   },
   "outputs": [
    {
     "data": {
      "text/html": [
       "<div>\n",
       "<style scoped>\n",
       "    .dataframe tbody tr th:only-of-type {\n",
       "        vertical-align: middle;\n",
       "    }\n",
       "\n",
       "    .dataframe tbody tr th {\n",
       "        vertical-align: top;\n",
       "    }\n",
       "\n",
       "    .dataframe thead th {\n",
       "        text-align: right;\n",
       "    }\n",
       "</style>\n",
       "<table border=\"1\" class=\"dataframe\">\n",
       "  <thead>\n",
       "    <tr style=\"text-align: right;\">\n",
       "      <th></th>\n",
       "      <th>sepal_length</th>\n",
       "      <th>sepal_width</th>\n",
       "      <th>petal_length</th>\n",
       "      <th>petal_width</th>\n",
       "      <th>species</th>\n",
       "    </tr>\n",
       "  </thead>\n",
       "  <tbody>\n",
       "    <tr>\n",
       "      <th>0</th>\n",
       "      <td>5.1</td>\n",
       "      <td>3.5</td>\n",
       "      <td>1.4</td>\n",
       "      <td>0.2</td>\n",
       "      <td>setosa</td>\n",
       "    </tr>\n",
       "    <tr>\n",
       "      <th>1</th>\n",
       "      <td>4.9</td>\n",
       "      <td>3.0</td>\n",
       "      <td>1.4</td>\n",
       "      <td>0.2</td>\n",
       "      <td>setosa</td>\n",
       "    </tr>\n",
       "    <tr>\n",
       "      <th>2</th>\n",
       "      <td>4.7</td>\n",
       "      <td>3.2</td>\n",
       "      <td>1.3</td>\n",
       "      <td>0.2</td>\n",
       "      <td>setosa</td>\n",
       "    </tr>\n",
       "    <tr>\n",
       "      <th>3</th>\n",
       "      <td>4.6</td>\n",
       "      <td>3.1</td>\n",
       "      <td>1.5</td>\n",
       "      <td>0.2</td>\n",
       "      <td>setosa</td>\n",
       "    </tr>\n",
       "    <tr>\n",
       "      <th>4</th>\n",
       "      <td>5.0</td>\n",
       "      <td>3.6</td>\n",
       "      <td>1.4</td>\n",
       "      <td>0.2</td>\n",
       "      <td>setosa</td>\n",
       "    </tr>\n",
       "  </tbody>\n",
       "</table>\n",
       "</div>"
      ],
      "text/plain": [
       "   sepal_length  sepal_width  petal_length  petal_width species\n",
       "0           5.1          3.5           1.4          0.2  setosa\n",
       "1           4.9          3.0           1.4          0.2  setosa\n",
       "2           4.7          3.2           1.3          0.2  setosa\n",
       "3           4.6          3.1           1.5          0.2  setosa\n",
       "4           5.0          3.6           1.4          0.2  setosa"
      ]
     },
     "execution_count": 164,
     "metadata": {},
     "output_type": "execute_result"
    }
   ],
   "source": [
    "# Reading the data from Excel and storing it into data frame\n",
    "data = pd.read_excel(\"Downloads//assignment6.xlsx\")\n",
    "data.head(5)"
   ]
  },
  {
   "cell_type": "code",
   "execution_count": 163,
   "id": "71d6db64",
   "metadata": {
    "scrolled": true
   },
   "outputs": [
    {
     "name": "stdout",
     "output_type": "stream",
     "text": [
      "For K =  3  Label predicted is : versicolor\n",
      "For K =  5  Label predicted is : versicolor\n",
      "For K =  7  Label predicted is : versicolor\n"
     ]
    }
   ],
   "source": [
    "for K in [3,5,7]:\n",
    "\n",
    "    X_trainingdata, Y_trainingdata, X_testing,K = data.iloc[:,:-1],data.iloc[:,-1],[np.array([8.2,2.6,3.2,0.2])],K\n",
    "    Y_prediction = KNN_Classifier( X_trainingdata, Y_trainingdata, X_testing,K )\n",
    "    print(\"For K = \",K,\" Label predicted is :\",Y_prediction[0])"
   ]
  },
  {
   "cell_type": "code",
   "execution_count": null,
   "id": "b31bade2",
   "metadata": {},
   "outputs": [],
   "source": []
  },
  {
   "cell_type": "code",
   "execution_count": null,
   "id": "374a3e01",
   "metadata": {
    "scrolled": false
   },
   "outputs": [],
   "source": []
  }
 ],
 "metadata": {
  "kernelspec": {
   "display_name": "Python 3 (ipykernel)",
   "language": "python",
   "name": "python3"
  },
  "language_info": {
   "codemirror_mode": {
    "name": "ipython",
    "version": 3
   },
   "file_extension": ".py",
   "mimetype": "text/x-python",
   "name": "python",
   "nbconvert_exporter": "python",
   "pygments_lexer": "ipython3",
   "version": "3.9.12"
  }
 },
 "nbformat": 4,
 "nbformat_minor": 5
}
