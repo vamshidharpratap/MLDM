{
 "cells": [
  {
   "cell_type": "code",
   "execution_count": 1,
   "id": "2e48d036",
   "metadata": {},
   "outputs": [],
   "source": [
    "# importing the requird libraries\n",
    "import numpy as np"
   ]
  },
  {
   "cell_type": "code",
   "execution_count": 2,
   "id": "fe1faec1",
   "metadata": {},
   "outputs": [],
   "source": [
    "def sig_activation(z):\n",
    "    \"\"\"\n",
    "    This function implements the sigmoid activation function for the input value\n",
    "    \n",
    "    param z : Input value for which we calculate the sigmoid function \n",
    "    \"\"\"\n",
    "    \n",
    "    return 1 / (1 + np.exp(-z))\n"
   ]
  },
  {
   "cell_type": "code",
   "execution_count": 3,
   "id": "3ec345f4",
   "metadata": {},
   "outputs": [],
   "source": [
    "def feed_forward(x,w,b): \n",
    "    \"\"\"\n",
    "    This function will perform the feed forward propagation for the given values.\n",
    "    \n",
    "    \n",
    "    param x : 1-d input array which contains the input values\n",
    "    param w : 1-d input array which contains the weight values \n",
    "    param b : input value which is bias value\n",
    "    \"\"\"\n",
    "    \n",
    "    #sp = np.dot(w,x) + b\n",
    "    #perform the compute\n",
    "    sp = w.dot(x) \n",
    "    # adding the bias\n",
    "    sp = sp + b\n",
    "    return sp\n",
    "    "
   ]
  },
  {
   "cell_type": "code",
   "execution_count": 4,
   "id": "56a5a34b",
   "metadata": {},
   "outputs": [],
   "source": [
    "def call_output(inputs:np.ndarray,weights:list,biases):\n",
    "    \"\"\"\n",
    "    This function will feed forward to the given neural network architecture\n",
    "    \n",
    "    param inputs  : 1-d input array which contains the input values\n",
    "    param weights : list of n-d input numpy arrays which contains the weight values for each layer\n",
    "    param weights : list of n-d input numpy arrays which contains the bias values for each layer\n",
    "    \n",
    "    \"\"\"\n",
    "    # assume if there are n-hidden layers. we need to perform feed-forward on each layer.\n",
    "    \n",
    "    layer_outputs = [] # Each layer outputs will be stored here\n",
    "    \n",
    "    for i in range(len(weights)):\n",
    "        \n",
    "        # get the inputs for the layer\n",
    "        if len(layer_outputs) == 0: \n",
    "            \n",
    "            #It means the beginning of the network \n",
    "            layer_inputs = inputs\n",
    "            \n",
    "        else :\n",
    "            \n",
    "            # The inputs for the current layer will be the outputs from the previous layer\n",
    "            layer_inputs = layer_outputs[i-1]\n",
    "      \n",
    "        compute_sum_of_products = feed_forward(layer_inputs,weights[i],biases[i])\n",
    "        output = sig_activation(compute_sum_of_products)\n",
    "            \n",
    "        #append to the layer_outputs\n",
    "        layer_outputs.append(output)\n",
    "    \n",
    "    #once it has traversed through all the layers, return the values of output layer \n",
    "    return layer_outputs[-1]\n",
    "        "
   ]
  },
  {
   "cell_type": "code",
   "execution_count": 5,
   "id": "f39d7061",
   "metadata": {
    "scrolled": false
   },
   "outputs": [
    {
     "data": {
      "text/plain": [
       "array([0.99999998, 1.        , 1.        ])"
      ]
     },
     "execution_count": 5,
     "metadata": {},
     "output_type": "execute_result"
    }
   ],
   "source": [
    "# lets run the code with the corresponding example\n",
    "inputs = np.array([1, 2, 3])\n",
    "weights = [np.array([[1, 2, 3], [4, 5, 6]]), np.array([[7, 8], [9, 10], [11, 12]])]\n",
    "biases = [np.array([1, 2]), np.array([3, 4,5])]\n",
    "\n",
    "call_output(inputs,weights,biases)"
   ]
  },
  {
   "cell_type": "code",
   "execution_count": null,
   "id": "1120f3b3",
   "metadata": {},
   "outputs": [],
   "source": []
  },
  {
   "cell_type": "code",
   "execution_count": null,
   "id": "654ce601",
   "metadata": {},
   "outputs": [],
   "source": []
  }
 ],
 "metadata": {
  "kernelspec": {
   "display_name": "Python 3 (ipykernel)",
   "language": "python",
   "name": "python3"
  },
  "language_info": {
   "codemirror_mode": {
    "name": "ipython",
    "version": 3
   },
   "file_extension": ".py",
   "mimetype": "text/x-python",
   "name": "python",
   "nbconvert_exporter": "python",
   "pygments_lexer": "ipython3",
   "version": "3.9.12"
  }
 },
 "nbformat": 4,
 "nbformat_minor": 5
}
