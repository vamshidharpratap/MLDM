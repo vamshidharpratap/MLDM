{
 "cells": [
  {
   "cell_type": "code",
   "execution_count": 18,
   "id": "2f5f4714",
   "metadata": {},
   "outputs": [],
   "source": [
    "# Importing libraries\n",
    "import numpy as np\n",
    "import pandas as pd"
   ]
  },
  {
   "cell_type": "code",
   "execution_count": 35,
   "id": "6e6badba",
   "metadata": {},
   "outputs": [],
   "source": [
    "# Reading the data from the file\n",
    "train_data = pd.read_csv(\"train.csv\")\n",
    "test_data  = pd.read_csv(\"test.csv\")"
   ]
  },
  {
   "cell_type": "code",
   "execution_count": 36,
   "id": "62a8fabf",
   "metadata": {},
   "outputs": [
    {
     "data": {
      "text/html": [
       "<div>\n",
       "<style scoped>\n",
       "    .dataframe tbody tr th:only-of-type {\n",
       "        vertical-align: middle;\n",
       "    }\n",
       "\n",
       "    .dataframe tbody tr th {\n",
       "        vertical-align: top;\n",
       "    }\n",
       "\n",
       "    .dataframe thead th {\n",
       "        text-align: right;\n",
       "    }\n",
       "</style>\n",
       "<table border=\"1\" class=\"dataframe\">\n",
       "  <thead>\n",
       "    <tr style=\"text-align: right;\">\n",
       "      <th></th>\n",
       "      <th>x</th>\n",
       "      <th>y</th>\n",
       "    </tr>\n",
       "  </thead>\n",
       "  <tbody>\n",
       "    <tr>\n",
       "      <th>0</th>\n",
       "      <td>24.0</td>\n",
       "      <td>21.549452</td>\n",
       "    </tr>\n",
       "    <tr>\n",
       "      <th>1</th>\n",
       "      <td>50.0</td>\n",
       "      <td>47.464463</td>\n",
       "    </tr>\n",
       "    <tr>\n",
       "      <th>2</th>\n",
       "      <td>15.0</td>\n",
       "      <td>17.218656</td>\n",
       "    </tr>\n",
       "    <tr>\n",
       "      <th>3</th>\n",
       "      <td>38.0</td>\n",
       "      <td>36.586398</td>\n",
       "    </tr>\n",
       "    <tr>\n",
       "      <th>4</th>\n",
       "      <td>87.0</td>\n",
       "      <td>87.288984</td>\n",
       "    </tr>\n",
       "  </tbody>\n",
       "</table>\n",
       "</div>"
      ],
      "text/plain": [
       "      x          y\n",
       "0  24.0  21.549452\n",
       "1  50.0  47.464463\n",
       "2  15.0  17.218656\n",
       "3  38.0  36.586398\n",
       "4  87.0  87.288984"
      ]
     },
     "execution_count": 36,
     "metadata": {},
     "output_type": "execute_result"
    }
   ],
   "source": [
    "#Checking the top 5 values\n",
    "train_data.head()"
   ]
  },
  {
   "cell_type": "code",
   "execution_count": 37,
   "id": "4c54b2a3",
   "metadata": {},
   "outputs": [
    {
     "data": {
      "text/plain": [
       "x    0\n",
       "y    1\n",
       "dtype: int64"
      ]
     },
     "execution_count": 37,
     "metadata": {},
     "output_type": "execute_result"
    }
   ],
   "source": [
    "#As a preprocessing step, delete the rows that contain NaN values.\n",
    "\n",
    "# Checking how many rows are 'NAN'\n",
    "train_data.isna().sum()"
   ]
  },
  {
   "cell_type": "code",
   "execution_count": 134,
   "id": "dd623476",
   "metadata": {
    "scrolled": true
   },
   "outputs": [
    {
     "name": "stdout",
     "output_type": "stream",
     "text": [
      "Rows containg NaN values after removing:\n"
     ]
    },
    {
     "data": {
      "text/plain": [
       "x    0\n",
       "y    0\n",
       "dtype: int64"
      ]
     },
     "execution_count": 134,
     "metadata": {},
     "output_type": "execute_result"
    }
   ],
   "source": [
    "# Removing the 'NaN' values from dataset\n",
    "train_data = train_data.dropna()\n",
    "print(\"Rows containg NaN values after removing:\")\n",
    "train_data.isna().sum()"
   ]
  },
  {
   "cell_type": "code",
   "execution_count": 135,
   "id": "70dbc002",
   "metadata": {},
   "outputs": [],
   "source": [
    "\n",
    "def estimate_coef_LR(X_feature, Y_label):\n",
    "    \"\"\"\n",
    "    This function will estimates the coefficients for the simple linear regression \n",
    "    \n",
    "    :param X_feature : Input parameters which represents the Feature values\n",
    "    :param Y_label : Input parameters which represents the Labels \n",
    "    \n",
    "    returns : weights w0,w1 are returned \n",
    "    \"\"\"\n",
    "   \n",
    "    # number of observations/points in the data\n",
    "    n = np.size(X_feature)\n",
    "  \n",
    "    # Finding the mean of vectors X,Y\n",
    "    X_mean = np.mean(X_feature)\n",
    "    Y_mean = np.mean(Y_label)\n",
    "  \n",
    "    # calculating cross-deviation and deviation about x\n",
    "    SS_XY = np.sum(X_feature*Y_label) - (n*X_mean*Y_mean)    # which is covariance of 'X' & 'Y'\n",
    "    SS_XX = np.sum(X_feature*X_feature) - (n*X_mean*X_mean)    # which is variance of 'X'\n",
    "  \n",
    "    # calculating regression coefficients\n",
    "    w1 = SS_XY / SS_XX\n",
    "    w0 = Y_mean - (w1*X_mean)\n",
    "    \n",
    "    return w0,w1"
   ]
  },
  {
   "cell_type": "code",
   "execution_count": 61,
   "id": "55a7bb73",
   "metadata": {},
   "outputs": [],
   "source": [
    "x = np.array(train_data['x'])\n",
    "y = np.array(train_data['y'])"
   ]
  },
  {
   "cell_type": "code",
   "execution_count": 136,
   "id": "8aa738ef",
   "metadata": {},
   "outputs": [],
   "source": [
    "(w0,w1) = estimate_coef_LR(x,y)"
   ]
  },
  {
   "cell_type": "code",
   "execution_count": 141,
   "id": "d68311d7",
   "metadata": {
    "scrolled": true
   },
   "outputs": [
    {
     "name": "stdout",
     "output_type": "stream",
     "text": [
      "The estimated coefficients are :\n",
      "\n",
      "Intercepts/Bias w0 =  -0.10726546430099404\n",
      "Weight w1 =  1.0006563818563043\n"
     ]
    }
   ],
   "source": [
    "print(\"The estimated coefficients are :\\n\")\n",
    "print(\"Intercepts/Bias w0 = \",w0)\n",
    "print(\"Weight w1 = \",w1)\n"
   ]
  },
  {
   "cell_type": "code",
   "execution_count": 115,
   "id": "4f6facfd",
   "metadata": {},
   "outputs": [],
   "source": [
    "# Lets predict the Y values for the train data\n",
    "\n",
    "x_test = test_data['x']\n",
    "y_test = test_data['y']\n",
    "\n",
    "# y = w0 + w1*x\n",
    "Y_pred = w1*test_data['x'] + w0"
   ]
  },
  {
   "cell_type": "code",
   "execution_count": 133,
   "id": "d97364d3",
   "metadata": {},
   "outputs": [
    {
     "name": "stdout",
     "output_type": "stream",
     "text": [
      "Root Mean Squared error is : 3.0713062680298253\n"
     ]
    }
   ],
   "source": [
    "#Calculating RMSE(root mean square as the metric)\n",
    "\n",
    "rmse = (((y_test - Y_pred) ** 2).mean()) ** 0.5\n",
    "print(\"Root Mean Squared error is :\",rmse)"
   ]
  },
  {
   "cell_type": "code",
   "execution_count": null,
   "id": "0678b19a",
   "metadata": {},
   "outputs": [],
   "source": []
  },
  {
   "cell_type": "code",
   "execution_count": null,
   "id": "c0fa0eaf",
   "metadata": {},
   "outputs": [],
   "source": []
  },
  {
   "cell_type": "code",
   "execution_count": null,
   "id": "601fd2ff",
   "metadata": {},
   "outputs": [],
   "source": []
  },
  {
   "cell_type": "code",
   "execution_count": null,
   "id": "f8614a4b",
   "metadata": {},
   "outputs": [],
   "source": []
  }
 ],
 "metadata": {
  "kernelspec": {
   "display_name": "Python 3 (ipykernel)",
   "language": "python",
   "name": "python3"
  },
  "language_info": {
   "codemirror_mode": {
    "name": "ipython",
    "version": 3
   },
   "file_extension": ".py",
   "mimetype": "text/x-python",
   "name": "python",
   "nbconvert_exporter": "python",
   "pygments_lexer": "ipython3",
   "version": "3.9.12"
  }
 },
 "nbformat": 4,
 "nbformat_minor": 5
}
